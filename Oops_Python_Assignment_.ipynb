{
  "nbformat": 4,
  "nbformat_minor": 0,
  "metadata": {
    "colab": {
      "provenance": []
    },
    "kernelspec": {
      "name": "python3",
      "display_name": "Python 3"
    },
    "language_info": {
      "name": "python"
    }
  },
  "cells": [
    {
      "cell_type": "markdown",
      "source": [
        "Q-1  What is Object-Oriented Programming (OOP) ?\n"
      ],
      "metadata": {
        "id": "L2ZG_rsdJMvw"
      }
    },
    {
      "cell_type": "markdown",
      "source": [
        "Ans Object-Oriented Programming (OOP) is a programming paradigm based on the concept of \"objects\", which contain data (attributes) and methods (functions). It focuses on organizing code using classes, supporting key principles like:\n",
        "\n",
        "Encapsulation – Bundling data and methods together.\n",
        "\n",
        "Inheritance – Reusing code from parent classes.\n",
        "\n",
        "Polymorphism – Using the same method in different ways.\n",
        "\n",
        "Abstraction – Hiding complex details and showing only essentials.\n",
        "\n",
        "\n",
        "\n",
        "\n",
        "\n",
        "\n",
        "\n"
      ],
      "metadata": {
        "id": "t7okgcEuJiH6"
      }
    },
    {
      "cell_type": "markdown",
      "source": [
        "Q-2  What is a class in OOP ?\n"
      ],
      "metadata": {
        "id": "4zHnZRkFJtlJ"
      }
    },
    {
      "cell_type": "markdown",
      "source": [
        "Ans A class in OOP is a blueprint for creating objects. It defines the attributes (data) and methods (functions) that the objects created from the class will have. For example, a Car class might define properties like color and speed, and methods like drive() or brake().\n",
        "\n",
        "\n",
        "\n",
        "\n",
        "\n",
        "\n",
        "\n"
      ],
      "metadata": {
        "id": "cMJtm36EJ0Zd"
      }
    },
    {
      "cell_type": "markdown",
      "source": [
        "Q-3 What is an object in OOP ?\n"
      ],
      "metadata": {
        "id": "hqXh8ME0J8uR"
      }
    },
    {
      "cell_type": "markdown",
      "source": [
        "Ans An object in OOP is an instance of a class. It represents a specific entity with actual values assigned to the class's attributes. For example, if Car is a class, then myCar = Car(\"red\", 120) is an object with specific data (\"red\" color, 120 speed).\n",
        "\n",
        "\n",
        "\n",
        "\n",
        "\n",
        "\n",
        "\n"
      ],
      "metadata": {
        "id": "NABOjVWEKFrE"
      }
    },
    {
      "cell_type": "markdown",
      "source": [
        "Q-4  What is the difference between abstraction and encapsulation ?\n"
      ],
      "metadata": {
        "id": "tjencQgVKeXm"
      }
    },
    {
      "cell_type": "markdown",
      "source": [
        "Ans Abstraction hides complex implementation details and shows only essential features (e.g., using a print() function without knowing how it works).\n",
        "\n",
        "Encapsulation means bundling data and methods together and restricting direct access to some parts (e.g., using private variables).\n",
        "\n",
        "In short:\n",
        "\n",
        "Abstraction = Hiding what you don’t need to see.\n",
        "\n",
        "Encapsulation = Hiding how the internal parts are protected.\n",
        "\n",
        "\n",
        "\n",
        "\n",
        "\n",
        "\n",
        "\n",
        "\n"
      ],
      "metadata": {
        "id": "E5OjfeqVLsS_"
      }
    },
    {
      "cell_type": "markdown",
      "source": [
        "Q-5  What are dunder methods in Python ?\n"
      ],
      "metadata": {
        "id": "nksdNbJ4L2C7"
      }
    },
    {
      "cell_type": "markdown",
      "source": [
        "Ans Dunder methods (short for “double underscore” methods) in Python are special methods with names like __init__, __str__, or __len__. They let you define how objects behave with built-in functions and operators. For example, __init__ initializes objects, and __str__ defines what print(obj) shows."
      ],
      "metadata": {
        "id": "e7VpKT7YL9M_"
      }
    },
    {
      "cell_type": "markdown",
      "source": [
        "Q-6  Explain the concept of inheritance in OOP ?\n"
      ],
      "metadata": {
        "id": "zvhYCVvfN4mQ"
      }
    },
    {
      "cell_type": "markdown",
      "source": [
        "Ans Inheritance in OOP allows a class (called a child or subclass) to inherit properties and methods from another class (called a parent or superclass). This promotes code reuse and hierarchical relationships.\n"
      ],
      "metadata": {
        "id": "CpQmSrOiOL_Z"
      }
    },
    {
      "cell_type": "markdown",
      "source": [
        "Q-7  What is polymorphism in OOP ?\n"
      ],
      "metadata": {
        "id": "tJ3WuD0iOO4S"
      }
    },
    {
      "cell_type": "markdown",
      "source": [
        "Ans Polymorphism in OOP means one interface, many forms. It allows different classes to define methods with the same name but different behaviors.\n",
        "\n"
      ],
      "metadata": {
        "id": "R5GX1VCaOm9b"
      }
    },
    {
      "cell_type": "markdown",
      "source": [
        "Q-8 How is encapsulation achieved in Python ?\n"
      ],
      "metadata": {
        "id": "hpV7sFRGPCuN"
      }
    },
    {
      "cell_type": "markdown",
      "source": [
        "Ans Encapsulation in Python is achieved by:\n",
        "\n",
        "Using classes to bundle data and methods.\n",
        "\n",
        "Restricting access with naming conventions:\n",
        "\n",
        "_var for protected (suggested private).\n",
        "\n",
        "__var for private (name mangling).\n",
        "\n"
      ],
      "metadata": {
        "id": "w-eVN2niPMM-"
      }
    },
    {
      "cell_type": "markdown",
      "source": [
        "Q-9 What is a constructor in Python ?\n"
      ],
      "metadata": {
        "id": "n0ZifeR3PWnI"
      }
    },
    {
      "cell_type": "markdown",
      "source": [
        "Ans A constructor in Python is a special method called __init__() that is automatically invoked when an object is created. It initializes the object’s attributes.\n",
        "\n",
        "Example:\n",
        "\n",
        "python\n",
        "Copy\n",
        "Edit\n",
        "class Person:\n",
        "    def __init__(self, name):\n",
        "        self.name = name\n"
      ],
      "metadata": {
        "id": "B8zrIRjtPjIZ"
      }
    },
    {
      "cell_type": "markdown",
      "source": [
        "Q-10 What are class and static methods in Python ?\n"
      ],
      "metadata": {
        "id": "FK78-Lv4P0vt"
      }
    },
    {
      "cell_type": "markdown",
      "source": [
        "Ans In Python:\n",
        "\n",
        "Class methods use @classmethod and take cls as the first parameter. They can access and modify class state.\n",
        "\n",
        "Static methods use @staticmethod and don’t take self or cls. They behave like regular functions but belong to the class.\n",
        "\n",
        "Example:\n",
        "\n",
        "python\n",
        "\n",
        "class MyClass:\n",
        "    count = 0\n",
        "\n",
        "    @classmethod\n",
        "    def increment(cls):\n",
        "        cls.count += 1\n",
        "\n",
        "    @staticmethod\n",
        "    def greet():\n",
        "        print(\"Hello!\")\n",
        "\n",
        "\n",
        "\n",
        "\n",
        "\n",
        "\n",
        "\n"
      ],
      "metadata": {
        "id": "vpEBmSjqQEFN"
      }
    },
    {
      "cell_type": "markdown",
      "source": [
        "Q-11 What is method overloading in Python ?\n"
      ],
      "metadata": {
        "id": "B9e-bPwGQUIy"
      }
    },
    {
      "cell_type": "markdown",
      "source": [
        "Ans Method overloading in Python refers to defining multiple methods with the same name but different parameters. However, Python doesn't support traditional overloading like some languages. Instead, you can use default arguments or *args/**args to achieve similar behavior:\n",
        "\n",
        "python\n",
        "\n",
        "class Demo:\n",
        "    def show(self, a=None, b=None):\n",
        "        if a and b:\n",
        "            print(a, b)\n",
        "        elif a:\n",
        "            print(a)\n",
        "        else:\n",
        "            print(\"No arguments\")\n",
        "This mimics overloading by handling arguments conditionally.\n",
        "\n",
        "\n",
        "\n",
        "\n",
        "\n",
        "\n",
        "\n",
        "\n"
      ],
      "metadata": {
        "id": "fmmyxY62QlBh"
      }
    },
    {
      "cell_type": "markdown",
      "source": [
        "Q-12 What is method overriding in OOP ?\n"
      ],
      "metadata": {
        "id": "rwplsPI_7gaN"
      }
    },
    {
      "cell_type": "markdown",
      "source": [
        "Ans Method overriding in OOP is when a subclass provides a specific implementation of a method that is already defined in its parent class. The overridden method in the subclass has the same name, parameters, and return type.\n",
        "\n",
        "Example:\n",
        "\n",
        "python\n",
        "\n",
        "class Parent:\n",
        "    def greet(self):\n",
        "        print(\"Hello from Parent\")\n",
        "\n",
        "class Child(Parent):\n",
        "    def greet(self):\n",
        "        print(\"Hello from Child\")\n",
        "\n",
        "c = Child()\n",
        "c.greet()  # Outputs: Hello from Child\n",
        "Here, Child overrides the greet method of Parent.\n",
        "\n",
        "\n",
        "\n",
        "\n",
        "\n",
        "\n",
        "\n",
        "\n"
      ],
      "metadata": {
        "id": "tdAeEXo57scL"
      }
    },
    {
      "cell_type": "markdown",
      "source": [
        "Q-13 What is a property decorator in Python ?\n"
      ],
      "metadata": {
        "id": "mrw6ngTg8Bap"
      }
    },
    {
      "cell_type": "markdown",
      "source": [
        "Ans The @property decorator in Python is used to define a method as a read-only attribute. It allows you to access a method like an attribute without using parentheses.\n",
        "\n"
      ],
      "metadata": {
        "id": "tgg5lS2H8Lmo"
      }
    },
    {
      "cell_type": "markdown",
      "source": [
        "Q-14 Why is polymorphism important in OOP ?\n"
      ],
      "metadata": {
        "id": "XJ1Ca_J78YYI"
      }
    },
    {
      "cell_type": "markdown",
      "source": [
        "Ans Polymorphism is important in OOP because it allows objects of different classes to be treated through a common interface. This promotes flexibility, code reusability, and easier maintenance.\n",
        "\n"
      ],
      "metadata": {
        "id": "OgWP42M88p21"
      }
    },
    {
      "cell_type": "markdown",
      "source": [
        "Q-15 What is an abstract class in Python ?\n"
      ],
      "metadata": {
        "id": "KYHkHNWD8rme"
      }
    },
    {
      "cell_type": "markdown",
      "source": [
        "An abstract class in Python is a class that cannot be instantiated and is meant to be a blueprint for other classes. It can have abstract methods that must be implemented in child classes.\n",
        "\n"
      ],
      "metadata": {
        "id": "BkUD7YYl80M2"
      }
    },
    {
      "cell_type": "markdown",
      "source": [
        "Q-16 What are the advantages of OOP ?\n"
      ],
      "metadata": {
        "id": "ft6GQEVJ8_aG"
      }
    },
    {
      "cell_type": "markdown",
      "source": [
        "Ans Advantages of Object-Oriented Programming (OOP):\n",
        "\n",
        "Modularity – Code is organized into classes, making it easier to manage and reuse.\n",
        "\n",
        "Encapsulation – Data and methods are bundled, protecting internal state.\n",
        "\n",
        "Inheritance – Code reuse is possible by deriving new classes from existing ones.\n",
        "\n",
        "Polymorphism – A common interface allows flexibility in code behavior.\n",
        "\n",
        "Maintainability – Cleaner, modular code is easier to update and debug.\n",
        "\n",
        "\n",
        "\n",
        "\n",
        "\n",
        "\n",
        "\n",
        "\n"
      ],
      "metadata": {
        "id": "5zjHTroq9JLy"
      }
    },
    {
      "cell_type": "markdown",
      "source": [
        "Q-17 What is the difference between a class variable and an instance variable ?\n"
      ],
      "metadata": {
        "id": "1aMoJlj79SU_"
      }
    },
    {
      "cell_type": "markdown",
      "source": [
        "Ans Class variable and instance variable differ in scope and how they are shared:\n",
        "\n",
        "Class variable: Shared across all instances of the class.\n",
        "\n",
        "Instance variable: Unique to each object (instance).\n",
        "\n"
      ],
      "metadata": {
        "id": "1iqwEur29a1_"
      }
    },
    {
      "cell_type": "markdown",
      "source": [
        "Q-18 What is multiple inheritance in Python ?\n"
      ],
      "metadata": {
        "id": "s39XuFXs9sb3"
      }
    },
    {
      "cell_type": "markdown",
      "source": [
        "Ans Multiple inheritance in Python means a class can inherit from more than one parent class.\n",
        "\n",
        "Example:\n",
        "\n",
        "python\n",
        "\n",
        "class A:\n",
        "    def show(self):\n",
        "        print(\"A\")\n",
        "\n",
        "class B:\n",
        "    def display(self):\n",
        "        print(\"B\")\n",
        "\n",
        "class C(A, B):\n",
        "    pass\n",
        "\n",
        "obj = C()\n",
        "obj.show()     # From class A\n",
        "obj.display()  # From class B\n",
        "It allows combining features from multiple classes but can lead to complexity, handled using Python’s Method Resolution Order (MRO).\n",
        "\n",
        "\n",
        "\n",
        "\n",
        "\n",
        "\n",
        "\n",
        "\n"
      ],
      "metadata": {
        "id": "8YrWIh2990J0"
      }
    },
    {
      "cell_type": "markdown",
      "source": [
        "Q-19 Explain the purpose of ‘’__str__’ and ‘__repr__’ ‘ methods in Python ?\n"
      ],
      "metadata": {
        "id": "4Qw33Lki-B6J"
      }
    },
    {
      "cell_type": "markdown",
      "source": [
        "Ans In Python, __str__ and __repr__ are special methods used to define string representations of objects:\n",
        "\n",
        "__str__: Returns a user-friendly string, used by print() and str().\n",
        "\n",
        "__repr__: Returns an official string representation, used in debugging and repr(); should ideally be unambiguous.\n",
        "\n",
        "Example:\n",
        "\n",
        "python\n",
        "\n",
        "class Book:\n",
        "    def __init__(self, title):\n",
        "        self.title = title\n",
        "\n",
        "    def __str__(self):\n",
        "        return f\"Book: {self.title}\"\n",
        "\n",
        "    def __repr__(self):\n",
        "        return f\"Book('{self.title}')\"\n",
        "\n",
        "b = Book(\"1984\")\n",
        "print(str(b))   # Book: 1984\n",
        "print(repr(b))  # Book('1984')\n",
        "Use __str__ for readability, __repr__ for developers.\n",
        "\n",
        "\n",
        "\n",
        "\n",
        "\n",
        "\n",
        "\n",
        "\n"
      ],
      "metadata": {
        "id": "9WhrJ8-u-Mg8"
      }
    },
    {
      "cell_type": "markdown",
      "source": [
        "Q-20 What is the significance of the ‘super()’ function in Python ?\n"
      ],
      "metadata": {
        "id": "5vpOdFXa-h0G"
      }
    },
    {
      "cell_type": "markdown",
      "source": [
        "Ans The super() function in Python is used to call methods from a parent class. It's especially useful in inheritance to avoid hardcoding the parent class name and to ensure proper method resolution order (MRO).\n",
        "\n",
        "Example:\n",
        "\n",
        "python\n",
        "class Parent:\n",
        "    def greet(self):\n",
        "        print(\"Hello from Parent\")\n",
        "\n",
        "class Child(Parent):\n",
        "    def greet(self):\n",
        "        super().greet()\n",
        "        print(\"Hello from Child\")\n",
        "\n",
        "c = Child()\n",
        "c.greet()\n",
        "Output:\n",
        "\n",
        "csharp\n",
        "\n",
        "Hello from Parent  \n",
        "Hello from Child  \n",
        "This helps maintain clean, extensible, and DRY (Don't Repeat Yourself) code.\n",
        "\n",
        "\n",
        "\n",
        "\n",
        "\n",
        "\n",
        "\n",
        "\n"
      ],
      "metadata": {
        "id": "sl4Y1-7x-pe5"
      }
    },
    {
      "cell_type": "markdown",
      "source": [
        "Q-21 What is the significance of the __del__ method in Python ?\n"
      ],
      "metadata": {
        "id": "_1K4pHSf-_1D"
      }
    },
    {
      "cell_type": "markdown",
      "source": [
        "Ans The __del__ method in Python is a destructor that is called when an object is about to be destroyed (garbage collected). It allows you to clean up resources like closing files or network connections.\n",
        "\n",
        "Example:\n",
        "\n",
        "python\n",
        "\n",
        "class MyClass:\n",
        "    def __del__(self):\n",
        "        print(\"Object is being destroyed\")\n",
        "\n",
        "obj = MyClass()\n",
        "del obj  # Triggers __del__ method\n",
        "However, relying on __del__ isn’t always recommended because object destruction timing isn’t guaranteed, especially with circular references.\n",
        "\n",
        "\n",
        "\n",
        "\n",
        "\n",
        "\n",
        "\n",
        "\n"
      ],
      "metadata": {
        "id": "3qa8SFOv_IE8"
      }
    },
    {
      "cell_type": "markdown",
      "source": [
        "Q-22 What is the difference between @staticmethod and @classmethod in Python ?\n"
      ],
      "metadata": {
        "id": "KIClreeK_VzU"
      }
    },
    {
      "cell_type": "markdown",
      "source": [
        "Ans Here’s the difference between @staticmethod and @classmethod in Python:\n",
        "\n",
        "@staticmethod:\n",
        "Method that doesn’t access the instance (self) or class (cls). It behaves like a regular function inside a class.\n",
        "\n",
        "@classmethod:\n",
        "Method that receives the class (cls) as the first argument and can access or modify class state.\n",
        "\n",
        "Example:\n",
        "\n",
        "python\n",
        "\n",
        "class MyClass:\n",
        "    @staticmethod\n",
        "    def static_method():\n",
        "        print(\"I don't access class or instance\")\n",
        "\n",
        "    @classmethod\n",
        "    def class_method(cls):\n",
        "        print(f\"I belong to {cls}\")\n",
        "\n",
        "MyClass.static_method()  # Works without instance\n",
        "MyClass.class_method()   # Receives class as argument\n",
        "Use @staticmethod for utility functions, @classmethod to work with class-level data.\n",
        "\n",
        "\n",
        "\n",
        "\n",
        "\n",
        "\n",
        "\n",
        "\n"
      ],
      "metadata": {
        "id": "l0LXUSAg_hb1"
      }
    },
    {
      "cell_type": "markdown",
      "source": [
        "Q-23 How does polymorphism work in Python with inheritance ?\n"
      ],
      "metadata": {
        "id": "-Hoz2rz3_pys"
      }
    },
    {
      "cell_type": "markdown",
      "source": [
        "Ans Polymorphism in Python with inheritance lets child classes override methods from a parent class, so the same method call behaves differently depending on the object’s class.\n",
        "\n",
        "Example:\n",
        "\n",
        "python\n",
        "\n",
        "class Animal:\n",
        "    def speak(self):\n",
        "        print(\"Animal speaks\")\n",
        "\n",
        "class Dog(Animal):\n",
        "    def speak(self):\n",
        "        print(\"Bark\")\n",
        "\n",
        "class Cat(Animal):\n",
        "    def speak(self):\n",
        "        print(\"Meow\")\n",
        "\n",
        "def make_animal_speak(animal):\n",
        "    animal.speak()\n",
        "\n",
        "make_animal_speak(Dog())  # Bark\n",
        "make_animal_speak(Cat())  # Meow\n",
        "Here, make_animal_speak works with any subclass of Animal and calls the overridden speak method, demonstrating polymorphism.\n",
        "\n",
        "\n",
        "\n",
        "\n",
        "\n",
        "\n",
        "\n",
        "\n"
      ],
      "metadata": {
        "id": "v6_41yY6_yjv"
      }
    },
    {
      "cell_type": "markdown",
      "source": [
        "Q-24 What is method chaining in Python OOP ?\n"
      ],
      "metadata": {
        "id": "_WkEuenx_81d"
      }
    },
    {
      "cell_type": "markdown",
      "source": [
        "Ans Method chaining in Python OOP is when you call multiple methods on the same object in a single line by having each method return the object itself (self).\n",
        "\n",
        "Example:\n",
        "\n",
        "python\n",
        "\n",
        "class Builder:\n",
        "    def __init__(self):\n",
        "        self.result = \"\"\n",
        "\n",
        "    def add_a(self):\n",
        "        self.result += \"A\"\n",
        "        return self\n",
        "\n",
        "    def add_b(self):\n",
        "        self.result += \"B\"\n",
        "        return self\n",
        "\n",
        "b = Builder()\n",
        "b.add_a().add_b().add_a()\n",
        "print(b.result)  # Output: ABA\n",
        "It makes code concise and fluent by linking method calls together.\n",
        "\n",
        "\n",
        "\n",
        "\n",
        "\n",
        "\n",
        "\n",
        "\n"
      ],
      "metadata": {
        "id": "IIhCie2iAGaN"
      }
    },
    {
      "cell_type": "markdown",
      "source": [
        "Q-25 What is the purpose of the __call__ method in Python ?"
      ],
      "metadata": {
        "id": "x8DBN1WsAUp5"
      }
    },
    {
      "cell_type": "markdown",
      "source": [
        "Ans The __call__ method in Python lets an instance of a class be called like a function. When you use parentheses () on an object, Python runs its __call__ method.\n",
        "\n",
        "Example:\n",
        "\n",
        "python\n",
        "\n",
        "class Greeter:\n",
        "    def __call__(self, name):\n",
        "        print(f\"Hello, {name}!\")\n",
        "\n",
        "g = Greeter()\n",
        "g(\"Alice\")  # Outputs: Hello, Alice!\n",
        "It’s useful to make objects behave like functions or to implement flexible APIs.\n",
        "\n",
        "\n",
        "\n",
        "\n",
        "\n",
        "\n",
        "\n",
        "\n"
      ],
      "metadata": {
        "id": "TRgoch5rAtBv"
      }
    },
    {
      "cell_type": "markdown",
      "source": [
        "# ***PRACTICAL QUESTION***"
      ],
      "metadata": {
        "id": "9s9Vrt6pA2Sb"
      }
    },
    {
      "cell_type": "markdown",
      "source": [
        "Q-1 Create a parent class Animal with a method speak() that prints a generic message. Create a child class Dog that overrides the speak() method to print \"Bark!\"?bold text\n"
      ],
      "metadata": {
        "id": "bhiM2bZZBCYB"
      }
    },
    {
      "cell_type": "markdown",
      "source": [
        "Ans class Animal:\n",
        "    def speak(self):\n",
        "        print(\"This animal makes a sound.\")\n",
        "\n",
        "class Dog(Animal):\n",
        "    def speak(self):\n",
        "        print(\"Bark!\")\n",
        "\n",
        "a = Animal()\n",
        "a.speak()  # This animal makes a sound.\n",
        "\n",
        "d = Dog()\n",
        "d.speak()  # Bark!\n",
        "\n",
        "\n",
        "\n",
        "\n",
        "\n",
        "\n",
        "\n"
      ],
      "metadata": {
        "id": "S0yobByaBTYu"
      }
    },
    {
      "cell_type": "markdown",
      "source": [
        "Q-2 Write a program to create an abstract class Shape with a method area(). Derive classes Circle and Rectangle from it and implement the area() method in both ?\n"
      ],
      "metadata": {
        "id": "KI8On2b8B3UY"
      }
    },
    {
      "cell_type": "markdown",
      "source": [
        "Ans Here’s how you can do it using Python’s abc module:\n",
        "\n",
        "python\n",
        "Copy\n",
        "Edit\n",
        "from abc import ABC, abstractmethod\n",
        "import math\n",
        "\n",
        "class Shape(ABC):\n",
        "    @abstractmethod\n",
        "    def area(self):\n",
        "        pass\n",
        "\n",
        "class Circle(Shape):\n",
        "    def __init__(self, radius):\n",
        "        self.radius = radius\n",
        "\n",
        "    def area(self):\n",
        "        return math.pi * self.radius ** 2\n",
        "\n",
        "class Rectangle(Shape):\n",
        "    def __init__(self, width, height):\n",
        "        self.width = width\n",
        "        self.height = height\n",
        "\n",
        "    def area(self):\n",
        "        return self.width * self.height\n",
        "\n",
        "c = Circle(5)\n",
        "r = Rectangle(4, 6)\n",
        "\n",
        "print(f\"Circle area: {c.area()}\")\n",
        "print(f\"Rectangle area: {r.area()}\")\n",
        "This defines an abstract base class Shape and forces subclasses to implement area().\n",
        "\n",
        "\n",
        "\n",
        "\n",
        "\n",
        "\n",
        "\n",
        "\n"
      ],
      "metadata": {
        "id": "Plh10_PKCEI4"
      }
    },
    {
      "cell_type": "markdown",
      "source": [
        "Q-3 Implement a multi-level inheritance scenario where a class Vehicle has an attribute type. Derive a class Car and further derive a class ElectricCar that adds a battery attribute ?\n"
      ],
      "metadata": {
        "id": "-xJ5RoMxCakp"
      }
    },
    {
      "cell_type": "markdown",
      "source": [
        "Ans Here’s an example of multi-level inheritance with Vehicle, Car, and ElectricCar:\n",
        "\n",
        "python\n",
        "\n",
        "class Vehicle:\n",
        "    def __init__(self, vehicle_type):\n",
        "        self.type = vehicle_type\n",
        "\n",
        "class Car(Vehicle):\n",
        "    def __init__(self, vehicle_type, brand):\n",
        "        super().__init__(vehicle_type)\n",
        "        self.brand = brand\n",
        "\n",
        "class ElectricCar(Car):\n",
        "    def __init__(self, vehicle_type, brand, battery_capacity):\n",
        "        super().__init__(vehicle_type, brand)\n",
        "        self.battery = battery_capacity\n",
        "\n",
        "\n",
        "ecar = ElectricCar(\"Car\", \"Tesla\", \"100 kWh\")\n",
        "print(f\"Type: {ecar.type}\")\n",
        "print(f\"Brand: {ecar.brand}\")\n",
        "print(f\"Battery: {ecar.battery}\")\n",
        "This shows inheritance going down three levels, with each subclass adding attributes.\n",
        "\n",
        "\n",
        "\n",
        "\n",
        "\n",
        "\n",
        "\n",
        "\n"
      ],
      "metadata": {
        "id": "0remFs3DCpfg"
      }
    },
    {
      "cell_type": "markdown",
      "source": [
        "Q-4 Implement a multi-level inheritance scenario where a class Vehicle has an attribute type. Derive a class Car and further derive a class ElectricCar that adds a battery attribute ?\n"
      ],
      "metadata": {
        "id": "ByTPe_9bDBu4"
      }
    },
    {
      "cell_type": "markdown",
      "source": [
        "Ans Here’s a clean multi-level inheritance example with Vehicle, Car, and ElectricCar:\n",
        "\n",
        "python\n",
        "\n",
        "class Vehicle:\n",
        "    def __init__(self, vehicle_type):\n",
        "        self.type = vehicle_type\n",
        "\n",
        "class Car(Vehicle):\n",
        "    def __init__(self, vehicle_type, brand):\n",
        "        super().__init__(vehicle_type)\n",
        "        self.brand = brand\n",
        "\n",
        "class ElectricCar(Car):\n",
        "    def __init__(self, vehicle_type, brand, battery_capacity):\n",
        "        super().__init__(vehicle_type, brand)\n",
        "        self.battery = battery_capacity\n",
        "\n",
        "my_electric_car = ElectricCar(\"Vehicle\", \"Tesla\", \"85 kWh\")\n",
        "print(f\"Type: {my_electric_car.type}\")\n",
        "print(f\"Brand: {my_electric_car.brand}\")\n",
        "print(f\"Battery: {my_electric_car.battery}\")\n",
        "Output:\n",
        "\n",
        "makefile\n",
        "\n",
        "Type: Vehicle\n",
        "Brand: Tesla\n",
        "Battery: 85 kWh\n",
        "Each subclass extends the previous one by adding more attributes.\n",
        "\n",
        "\n",
        "\n",
        "\n",
        "\n",
        "\n",
        "\n",
        "\n"
      ],
      "metadata": {
        "id": "qNQAnar_DUcg"
      }
    },
    {
      "cell_type": "markdown",
      "source": [
        "Q-5 Write a program to demonstrate encapsulation by creating a class BankAccount with private attributes balance and methods to deposit, withdraw, and check balance ?\n"
      ],
      "metadata": {
        "id": "2XfW8zhvDv0j"
      }
    },
    {
      "cell_type": "markdown",
      "source": [
        "Ans Here’s a simple encapsulation example using private attributes in a BankAccount class:\n",
        "\n",
        "python\n",
        "class BankAccount:\n",
        "    def __init__(self, initial_balance=0):\n",
        "        self.__balance = initial_balance  # private attribute\n",
        "\n",
        "    def deposit(self, amount):\n",
        "        if amount > 0:\n",
        "            self.__balance += amount\n",
        "            print(f\"Deposited: {amount}\")\n",
        "        else:\n",
        "            print(\"Deposit amount must be positive.\")\n",
        "\n",
        "    def withdraw(self, amount):\n",
        "        if amount > 0 and amount <= self.__balance:\n",
        "            self.__balance -= amount\n",
        "            print(f\"Withdrawn: {amount}\")\n",
        "        else:\n",
        "            print(\"Insufficient balance or invalid amount.\")\n",
        "\n",
        "    def check_balance(self):\n",
        "        print(f\"Balance: {self.__balance}\")\n",
        "\n",
        "account = BankAccount(100)\n",
        "account.deposit(50)\n",
        "account.withdraw(30)\n",
        "account.check_balance()\n",
        "\n",
        "The __balance attribute is private and accessed only via methods, ensuring encapsulation.\n",
        "\n",
        "\n",
        "\n",
        "\n",
        "\n",
        "\n",
        "\n",
        "\n"
      ],
      "metadata": {
        "id": "_7qIiqpOD7_P"
      }
    },
    {
      "cell_type": "markdown",
      "source": [
        "Q-6 Demonstrate runtime polymorphism using a method play() in a base class Instrument. Derive classes Guitar and Piano that implement their own version of play()?\n"
      ],
      "metadata": {
        "id": "azDbkeYNESCy"
      }
    },
    {
      "cell_type": "markdown",
      "source": [
        "Ans Here’s an example demonstrating runtime polymorphism with play() method:\n",
        "\n",
        "python\n",
        "\n",
        "class Instrument:\n",
        "    def play(self):\n",
        "        print(\"Playing instrument\")\n",
        "\n",
        "class Guitar(Instrument):\n",
        "    def play(self):\n",
        "        print(\"Playing the guitar\")\n",
        "\n",
        "class Piano(Instrument):\n",
        "    def play(self):\n",
        "        print(\"Playing the piano\")\n",
        "\n",
        "def perform(instrument):\n",
        "    instrument.play()\n",
        "\n",
        "g = Guitar()\n",
        "p = Piano()\n",
        "\n",
        "perform(g)  # Playing the guitar\n",
        "perform(p)  # Playing the piano\n",
        "The perform function calls play() on any Instrument subclass, and the right method is chosen at runtime.\n",
        "\n",
        "\n",
        "\n",
        "\n",
        "\n",
        "\n",
        "\n",
        "\n"
      ],
      "metadata": {
        "id": "fS2V-Ha0EpXS"
      }
    },
    {
      "cell_type": "markdown",
      "source": [
        "Q-7 Create a class MathOperations with a class method add_numbers() to add two numbers and a static method subtract_numbers() to subtract two numbers?  \n"
      ],
      "metadata": {
        "id": "b-Ymm-m5FDPl"
      }
    },
    {
      "cell_type": "markdown",
      "source": [
        "Ans Here’s a class with both a class method and a static method as you asked:\n",
        "\n",
        "python\n",
        "\n",
        "class MathOperations:\n",
        "    @classmethod\n",
        "    def add_numbers(cls, a, b):\n",
        "        return a + b\n",
        "\n",
        "    @staticmethod\n",
        "    def subtract_numbers(a, b):\n",
        "        return a - b\n",
        "\n",
        "print(MathOperations.add_numbers(10, 5))       # Output: 15\n",
        "print(MathOperations.subtract_numbers(10, 5))  # Output: 5\n",
        "add_numbers is a class method and receives cls as the first argument.\n",
        "\n",
        "subtract_numbers is a static method and doesn’t access class or instance data.\n",
        "\n",
        "\n",
        "\n",
        "\n",
        "\n",
        "\n",
        "\n",
        "\n"
      ],
      "metadata": {
        "id": "ccE8ZuUkFNa4"
      }
    },
    {
      "cell_type": "markdown",
      "source": [
        "Q-8 Implement a class Person with a class method to count the total number of persons created ?"
      ],
      "metadata": {
        "id": "4rcWWMJPFf86"
      }
    },
    {
      "cell_type": "markdown",
      "source": [
        "Ans Here’s how you can implement a Person class that keeps track of how many instances are created using a class variable and a class method:\n",
        "\n",
        "python\n",
        "\n",
        "class Person:\n",
        "    count = 0  # class variable to count instances\n",
        "\n",
        "    def __init__(self, name):\n",
        "        self.name = name\n",
        "        Person.count += 1\n",
        "\n",
        "    @classmethod\n",
        "    def total_persons(cls):\n",
        "        return cls.count\n",
        "\n",
        "p1 = Person(\"Alice\")\n",
        "p2 = Person(\"Bob\")\n",
        "p3 = Person(\"Charlie\")\n",
        "\n",
        "print(Person.total_persons())  # Output: 3\n",
        "Each time a new Person is created, count increments, and total_persons returns the current count.\n",
        "\n",
        "\n",
        "\n",
        "\n",
        "\n",
        "\n",
        "\n",
        "\n"
      ],
      "metadata": {
        "id": "TqXBes5KFo_M"
      }
    },
    {
      "cell_type": "markdown",
      "source": [
        "Q-9 Write a class Fraction with attributes numerator and denomi\\nator. Override the str method to display the fraction as \"numerator/denominator\"?\n"
      ],
      "metadata": {
        "id": "g3AzR79oFz23"
      }
    },
    {
      "cell_type": "markdown",
      "source": [
        "Ans Here’s a Fraction class with __str__ overridden to show \"numerator/denominator\":\n",
        "\n",
        "python\n",
        "\n",
        "class Fraction:\n",
        "    def __init__(self, numerator, denominator):\n",
        "        self.numerator = numerator\n",
        "        self.denominator = denominator\n",
        "\n",
        "    def __str__(self):\n",
        "        return f\"{self.numerator}/{self.denominator}\"\n",
        "f = Fraction(3, 4)\n",
        "print(f)  # Output: 3/4\n",
        "\n",
        "\n",
        "\n",
        "\n",
        "\n",
        "\n",
        "\n",
        "\n"
      ],
      "metadata": {
        "id": "pSW2pJtlF_eP"
      }
    },
    {
      "cell_type": "markdown",
      "source": [
        "Q-10 Demonstrate operator overloading by creating a class Vector and overriding the add method to add two vectors ?\n"
      ],
      "metadata": {
        "id": "qi7fRwbfGd1M"
      }
    },
    {
      "cell_type": "markdown",
      "source": [
        "Ans Here’s a Vector class demonstrating operator overloading by overriding the __add__ method:\n",
        "\n",
        "python\n",
        "\n",
        "class Vector:\n",
        "    def __init__(self, x, y):\n",
        "        self.x = x\n",
        "        self.y = y\n",
        "\n",
        "    def __add__(self, other):\n",
        "        return Vector(self.x + other.x, self.y + other.y)\n",
        "\n",
        "    def __str__(self):\n",
        "        return f\"Vector({self.x}, {self.y})\"\n",
        "\n",
        "v1 = Vector(2, 3)\n",
        "v2 = Vector(4, 5)\n",
        "v3 = v1 + v2\n",
        "\n",
        "print(v3)  # Output: Vector(6, 8)\n",
        "This lets you use + to add two Vector objects intuitively.\n",
        "\n",
        "\n",
        "\n",
        "\n",
        "\n",
        "\n",
        "\n",
        "\n"
      ],
      "metadata": {
        "id": "c3KxxHhnG-9A"
      }
    },
    {
      "cell_type": "markdown",
      "source": [
        "Q-11 Create a class Person with attributes name and age. Add a method greet() that prints \"Hello, my name is {name} and I am {age} years old ?*italicized text*\n"
      ],
      "metadata": {
        "id": "x45s3tjwHSm9"
      }
    },
    {
      "cell_type": "code",
      "source": [
        "class Person:\n",
        "    def __init__(self, name, age):\n",
        "        self.name = name\n",
        "        self.age = age\n",
        "\n",
        "    def greet(self):\n",
        "        print(f\"Hello, my name is {self.name} and I am {self.age} years old.\")\n",
        "\n",
        "# Test\n",
        "p = Person(\"Alice\", 30)\n",
        "p.greet()"
      ],
      "metadata": {
        "colab": {
          "base_uri": "https://localhost:8080/"
        },
        "id": "jdFz-6EzH3F2",
        "outputId": "b8b20349-8192-4534-a3cb-32c98650b250"
      },
      "execution_count": null,
      "outputs": [
        {
          "output_type": "stream",
          "name": "stdout",
          "text": [
            "Hello, my name is Alice and I am 30 years old.\n"
          ]
        }
      ]
    },
    {
      "cell_type": "markdown",
      "source": [
        "Q-12 Implement a class Student with attributes name and grades. Create a method average_grade() to compute the average of the grades ?\n"
      ],
      "metadata": {
        "id": "l-PIZZytIEA4"
      }
    },
    {
      "cell_type": "code",
      "source": [
        "class Student:\n",
        "    def __init__(self, name, grades):\n",
        "        self.name = name\n",
        "        self.grades = grades  # list of grades\n",
        "\n",
        "    def average_grade(self):\n",
        "        if not self.grades:\n",
        "            return 0\n",
        "        return sum(self.grades) / len(self.grades)\n",
        "\n",
        "# Test\n",
        "s = Student(\"John\", [85, 90, 78, 92])\n",
        "print(f\"{s.name}'s average grade is {s.average_grade():.2f}\")\n"
      ],
      "metadata": {
        "colab": {
          "base_uri": "https://localhost:8080/"
        },
        "id": "ZDPJseZ1IkfR",
        "outputId": "9c330186-99a7-4181-80ae-53cd8cf13a1f"
      },
      "execution_count": null,
      "outputs": [
        {
          "output_type": "stream",
          "name": "stdout",
          "text": [
            "John's average grade is 86.25\n"
          ]
        }
      ]
    },
    {
      "cell_type": "markdown",
      "source": [
        "Q-13 Create a class Rectangle with methods set_dimensions() to set the dimensions and area() to calculate the area ?\n"
      ],
      "metadata": {
        "id": "LyYeCFt_Inot"
      }
    },
    {
      "cell_type": "code",
      "source": [
        "class Rectangle:\n",
        "    def __init__(self):\n",
        "        self.length = 0\n",
        "        self.width = 0\n",
        "\n",
        "    def set_dimensions(self, length, width):\n",
        "        self.length = length\n",
        "        self.width = width\n",
        "\n",
        "    def area(self):\n",
        "        return self.length * self.width\n",
        "\n",
        "# Test\n",
        "r = Rectangle()\n",
        "r.set_dimensions(5, 4)\n",
        "print(f\"Area of rectangle: {r.area()}\")"
      ],
      "metadata": {
        "colab": {
          "base_uri": "https://localhost:8080/"
        },
        "id": "wuepTYg1JFDj",
        "outputId": "96c270b5-6147-44f4-95ee-5bf3edbcee41"
      },
      "execution_count": null,
      "outputs": [
        {
          "output_type": "stream",
          "name": "stdout",
          "text": [
            "Area of rectangle: 20\n"
          ]
        }
      ]
    },
    {
      "cell_type": "markdown",
      "source": [
        "Q-14 Create a class Employee with a method calculate_salary() that computes the salary based on hours worked and hourly rate. Create a derived class Manager that adds a bonus to the salary ?\n",
        "\n"
      ],
      "metadata": {
        "id": "54puAO54JHcP"
      }
    },
    {
      "cell_type": "code",
      "source": [
        "class Employee:\n",
        "    def __init__(self, hours_worked, hourly_rate):\n",
        "        self.hours = hours_worked\n",
        "        self.rate = hourly_rate\n",
        "\n",
        "    def calculate_salary(self):\n",
        "        return self.hours * self.rate\n",
        "\n",
        "class Manager(Employee):\n",
        "    def __init__(self, hours_worked, hourly_rate, bonus):\n",
        "        super().__init__(hours_worked, hourly_rate)\n",
        "        self.bonus = bonus\n",
        "\n",
        "    def calculate_salary(self):\n",
        "        base_salary = super().calculate_salary()\n",
        "        return base_salary + self.bonus\n",
        "\n",
        "# Test\n",
        "e = Employee(40, 20)\n",
        "m = Manager(40, 30, 500)\n",
        "\n",
        "print(f\"Employee Salary: ${e.calculate_salary()}\")\n",
        "print(f\"Manager Salary: ${m.calculate_salary()}\")\n"
      ],
      "metadata": {
        "colab": {
          "base_uri": "https://localhost:8080/"
        },
        "id": "LmYsw_-mJeHv",
        "outputId": "4fc845d2-4d20-4fa5-c1e1-5fa7e6e2e4fe"
      },
      "execution_count": null,
      "outputs": [
        {
          "output_type": "stream",
          "name": "stdout",
          "text": [
            "Employee Salary: $800\n",
            "Manager Salary: $1700\n"
          ]
        }
      ]
    },
    {
      "cell_type": "markdown",
      "source": [
        "Q-15 Create a class Product with attributes name, price, and quantity. Implement a method total_price() that calculates the total price of the product ?\n"
      ],
      "metadata": {
        "id": "rNfzJ-teJgls"
      }
    },
    {
      "cell_type": "code",
      "source": [
        "class Product:\n",
        "    def __init__(self, name, price, quantity):\n",
        "        self.name = name\n",
        "        self.price = price\n",
        "        self.quantity = quantity\n",
        "\n",
        "    def total_price(self):\n",
        "        return self.price * self.quantity\n",
        "\n",
        "# Test\n",
        "p = Product(\"Laptop\", 800, 3)\n",
        "print(f\"Total price for {p.name}s: ${p.total_price()}\")"
      ],
      "metadata": {
        "colab": {
          "base_uri": "https://localhost:8080/"
        },
        "id": "hGJhQMpzJ5PE",
        "outputId": "659231e2-43db-48d7-d1df-20bd30586de6"
      },
      "execution_count": null,
      "outputs": [
        {
          "output_type": "stream",
          "name": "stdout",
          "text": [
            "Total price for Laptops: $2400\n"
          ]
        }
      ]
    },
    {
      "cell_type": "markdown",
      "source": [
        "Q-16 Create a class Animal with an abstract method sound(). Create two derived classes Cow and Sheep that implement the sound() method?\n"
      ],
      "metadata": {
        "id": "SLJ40rKeJ7Zz"
      }
    },
    {
      "cell_type": "markdown",
      "source": [
        "Ans Here’s how you can use an abstract base class Animal with Cow and Sheep implementing the sound() method:\n",
        "\n",
        "python\n",
        "from abc import ABC, abstractmethod\n",
        "\n",
        "class Animal(ABC):\n",
        "    @abstractmethod\n",
        "    def sound(self):\n",
        "        pass\n",
        "\n",
        "class Cow(Animal):\n",
        "    def sound(self):\n",
        "        print(\"Moo\")\n",
        "\n",
        "class Sheep(Animal):\n",
        "    def sound(self):\n",
        "        print(\"Baa\")\n",
        "\n",
        "c = Cow()\n",
        "s = Sheep()\n",
        "c.sound()  # Output: Moo\n",
        "s.sound()  # Output: Baa\n",
        "This demonstrates polymorphism and abstraction using the abc module"
      ],
      "metadata": {
        "id": "5_OuQqdvKfeT"
      }
    },
    {
      "cell_type": "markdown",
      "source": [
        "Q-17 Create a class Book with attributes title, author, and year_published. Add a method get_book_info() that returns a formatted string with the book's details?\n"
      ],
      "metadata": {
        "id": "3ExwBB_lKulz"
      }
    },
    {
      "cell_type": "markdown",
      "source": [
        "Ans class Book:\n",
        "    def __init__(self, title, author, year_published):\n",
        "        self.title = title\n",
        "        self.author = author\n",
        "        self.year_published = year_published\n",
        "\n",
        "    def get_book_info(self):\n",
        "        return f\"'{self.title}' by {self.author} ({self.year_published})\"\n",
        "\n",
        "\n",
        "b = Book(\"1984\", \"George Orwell\", 1949)\n",
        "print(b.get_book_info())\n",
        "Output:\n",
        "\n",
        "csharp\n",
        "\n",
        "'1984' by George Orwell (1949)\n",
        "\n",
        "\n"
      ],
      "metadata": {
        "id": "Gsvx9rnKLSpZ"
      }
    },
    {
      "cell_type": "markdown",
      "source": [
        "Q-18 Create a class House with attributes address and price. Create a derived class Mansion that adds an attribute number_of_rooms?\n"
      ],
      "metadata": {
        "id": "_5won1yQLf18"
      }
    },
    {
      "cell_type": "code",
      "source": [
        "class House:\n",
        "    def __init__(self, address, price):\n",
        "        self.address = address\n",
        "        self.price = price\n",
        "\n",
        "class Mansion(House):\n",
        "    def __init__(self, address, price, number_of_rooms):\n",
        "        super().__init__(address, price)\n",
        "        self.number_of_rooms = number_of_rooms\n",
        "\n",
        "    def get_info(self):\n",
        "        return f\"Mansion at {self.address}, Price: ${self.price}, Rooms: {self.number_of_rooms}\"\n",
        "\n",
        "# Test\n",
        "m = Mansion(\"10 Grand Ave\", 7500000, 15)\n",
        "print(m.get_info())"
      ],
      "metadata": {
        "colab": {
          "base_uri": "https://localhost:8080/"
        },
        "id": "Z_0vfdQ7MKcN",
        "outputId": "8f68dbbb-c935-4a93-90b8-a57dd7fac2e4"
      },
      "execution_count": null,
      "outputs": [
        {
          "output_type": "stream",
          "name": "stdout",
          "text": [
            "Mansion at 10 Grand Ave, Price: $7500000, Rooms: 15\n"
          ]
        }
      ]
    }
  ]
}